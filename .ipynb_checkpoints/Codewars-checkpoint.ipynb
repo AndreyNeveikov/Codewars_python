{
 "cells": [
  {
   "cell_type": "code",
   "execution_count": 1,
   "id": "3d078324",
   "metadata": {},
   "outputs": [
    {
     "data": {
      "text/plain": [
       "-9212"
      ]
     },
     "execution_count": 1,
     "metadata": {},
     "output_type": "execute_result"
    }
   ],
   "source": [
    "\"\"\"\n",
    "We need a function that can transform a string into a number. What ways of achieving this do you know?\n",
    "\n",
    "Note: Don't worry, all inputs will be strings, and every string is a perfectly valid representation of an integral number.\n",
    "\"\"\"\n",
    "\n",
    "\"\"\"My solution\"\"\"\n",
    "def string_to_number(s):\n",
    "    return int(s)\n",
    "\n",
    "\n",
    "string_to_number('-9212')"
   ]
  },
  {
   "cell_type": "code",
   "execution_count": 2,
   "id": "53b4acd3",
   "metadata": {},
   "outputs": [
    {
     "data": {
      "text/plain": [
       "0"
      ]
     },
     "execution_count": 2,
     "metadata": {},
     "output_type": "execute_result"
    }
   ],
   "source": [
    "\"\"\"\n",
    "Your classmates asked you to copy some paperwork for them. You know that there are 'n' classmates and the paperwork has 'm' pages.\n",
    "\n",
    "Your task is to calculate how many blank pages do you need. If n < 0 or m < 0 return 0.\n",
    "\"\"\"\n",
    "\n",
    "\"\"\"My solution\"\"\"\n",
    "def paperwork(n, m):\n",
    "    # Happy Coding! ^_^\n",
    "    if n < 0 or m < 0:\n",
    "        return 0\n",
    "    return m * n\n",
    "\n",
    "\n",
    "paperwork(-9, 5)"
   ]
  },
  {
   "cell_type": "code",
   "execution_count": 3,
   "id": "1502c941",
   "metadata": {},
   "outputs": [
    {
     "data": {
      "text/plain": [
       "'1011'"
      ]
     },
     "execution_count": 3,
     "metadata": {},
     "output_type": "execute_result"
    }
   ],
   "source": [
    "\"\"\"\n",
    "Implement a function that adds two numbers together and returns their sum in binary. The conversion can be done before, or after the addition.\n",
    "\n",
    "The binary number returned should be a string.\n",
    "\"\"\"\n",
    "\n",
    "\"\"\"My solution\"\"\"\n",
    "def add_binary(a,b):\n",
    "    #your code here\n",
    "    res = bin(a + b)\n",
    "    return res[2:]\n",
    "\n",
    "\n",
    "add_binary(2,9)"
   ]
  },
  {
   "cell_type": "code",
   "execution_count": 39,
   "id": "6f6d6033",
   "metadata": {},
   "outputs": [
    {
     "data": {
      "text/plain": [
       "True"
      ]
     },
     "execution_count": 39,
     "metadata": {},
     "output_type": "execute_result"
    }
   ],
   "source": [
    "\"\"\"\n",
    "You will be given an array a and a value x. All you need to do is check whether the provided array contains the value.\n",
    "\n",
    "Array can contain numbers or strings. X can be either.\n",
    "\n",
    "Return true if the array contains the value, false if not.\n",
    "\"\"\"\n",
    "\n",
    "\"\"\"My solution\"\"\"\n",
    "def check(seq, elem):\n",
    "    counter = 0\n",
    "    for i in seq:\n",
    "        counter += 1\n",
    "        if elem == i:\n",
    "            return True\n",
    "    return False\n",
    "\n",
    "\"\"\"Optimal solution\"\"\"\n",
    "def check_optimal(seq, elem):\n",
    "    return elem in seq\n",
    "            \n",
    "            \n",
    "check([8, 7, 5, \"bored\", \"of\", \"writing\", \"tests\", 115], 'of')"
   ]
  },
  {
   "cell_type": "code",
   "execution_count": 36,
   "id": "3b51e855",
   "metadata": {},
   "outputs": [
    {
     "data": {
      "text/plain": [
       "8"
      ]
     },
     "execution_count": 36,
     "metadata": {},
     "output_type": "execute_result"
    }
   ],
   "source": [
    "\"\"\"\n",
    "You are given an array (which will have a length of at least 3, \n",
    "but could be very large) containing integers. \n",
    "The array is either entirely comprised of odd integers or\n",
    "entirely comprised of even integers except for a single integer N.\n",
    "Write a method that takes the array as an argument and returns this \"outlier\" N.\n",
    "\"\"\"\n",
    "\n",
    "\"\"\"My solution\"\"\"\n",
    "def find_outlier(integers):\n",
    "    \n",
    "    \"\"\"Determine which numbers prevail in the array\"\"\"\n",
    "    counter = 0\n",
    "    for i in range(3):\n",
    "        if integers[i] % 2 == 1:\n",
    "           counter += 1 \n",
    "        \n",
    "    \"\"\"Define an outlier\"\"\"  \n",
    "    if counter > 1:\n",
    "        for i in range(len(integers)):\n",
    "            if integers[i] % 2 == 0:\n",
    "                return integers[i]\n",
    "            \n",
    "    for i in range(len(integers)):\n",
    "        if integers[i] % 2 == 1:\n",
    "            return integers[i]\n",
    "    \n",
    "\n",
    "#find_outlier([7, 4, 6, 8, 10, 0])\n",
    "#find_outlier([2, 4, 6, 8, 10, 3])\n",
    "find_outlier([1, 5, 8, 13, 3, 7])\n",
    "\n",
    "\n",
    "\n",
    "\n",
    "\"\"\"Optimal solution\"\"\"\n",
    "def find_outlier_optimal(integers):\n",
    "    odd = filter(lambda x: x % 2 == 1, integers)\n",
    "    even = filter(lambda x: x % 2 == 0, integers)\n",
    "    return odd[0] if len(odd) == 1 else even[0]"
   ]
  },
  {
   "cell_type": "code",
   "execution_count": 44,
   "id": "e5a76480",
   "metadata": {},
   "outputs": [
    {
     "data": {
      "text/plain": [
       "'dlrow'"
      ]
     },
     "execution_count": 44,
     "metadata": {},
     "output_type": "execute_result"
    }
   ],
   "source": [
    "\"\"\"Complete the solution so that it reverses the string passed into it.\"\"\"\n",
    "\n",
    "\"\"\"My solution\"\"\"\n",
    "def solution(string):\n",
    "    return string[::-1]\n",
    "\n",
    "\n",
    "solution('world')\n",
    "\n",
    "\n",
    "# For beginners it's good practise \n",
    "# to know how reverse() or [::-1]\n",
    "# works on the surface\n",
    "    #for char in range(len(string)-1,-1,-1):\n",
    "        #return string[char]"
   ]
  },
  {
   "cell_type": "code",
   "execution_count": 11,
   "id": "4b9d1664",
   "metadata": {},
   "outputs": [
    {
     "name": "stdout",
     "output_type": "stream",
     "text": [
      "True\n"
     ]
    }
   ],
   "source": [
    "\"\"\"\n",
    "Complete the solution so that it returns true if the first argument(string)\n",
    "passed in ends with the 2nd argument (also a string).\n",
    "\"\"\"\n",
    "\"\"\"My solution\"\"\"\n",
    "def solution(string, ending):\n",
    "    if string[-len(ending):] == ending or ending == '':\n",
    "        return True\n",
    "    return False\n",
    "              \n",
    "print(solution('dsdvc1', 'c1'))    \n",
    "    \n",
    "\"\"\"Optimal solution\"\"\"\n",
    "def optimal_solution(string, ending):\n",
    "    return string.endswith(ending)"
   ]
  },
  {
   "cell_type": "code",
   "execution_count": 12,
   "id": "c09c9dd3",
   "metadata": {},
   "outputs": [
    {
     "data": {
      "text/plain": [
       "'GACU'"
      ]
     },
     "execution_count": 12,
     "metadata": {},
     "output_type": "execute_result"
    }
   ],
   "source": [
    "\"\"\"\n",
    "Deoxyribonucleic acid, DNA is the primary information storage molecule in biological systems. \n",
    "It is composed of four nucleic acid bases Guanine ('G'), Cytosine ('C'), Adenine ('A'), and Thymine ('T').\n",
    "\n",
    "Ribonucleic acid, RNA, is the primary messenger molecule in cells. \n",
    "RNA differs slightly from DNA its chemical structure and contains no Thymine. \n",
    "In RNA Thymine is replaced by another nucleic acid Uracil ('U').\n",
    "\n",
    "Create a function which translates a given DNA string into RNA.\n",
    "\"\"\"\n",
    "\n",
    "def dna_to_rna(dna):\n",
    "    return dna.replace('T', 'U')\n",
    "\n",
    "dna_to_rna('GACT')"
   ]
  },
  {
   "cell_type": "code",
   "execution_count": 2,
   "id": "9e829ee5",
   "metadata": {},
   "outputs": [
    {
     "name": "stdout",
     "output_type": "stream",
     "text": [
      "Yes\n"
     ]
    }
   ],
   "source": [
    "\"\"\"\n",
    "Complete the method that takes a boolean value\n",
    "and return a \"Yes\" string for true, or a \"No\" string for false.\n",
    "\"\"\"\n",
    "\n",
    "\"\"\"My solution\"\"\"\n",
    "def bool_to_word(boolean):\n",
    "    if boolean == True:\n",
    "        return 'Yes'\n",
    "    return 'No'\n",
    "\n",
    "print(bool_to_word(True))\n",
    "\n",
    "\"\"\"Optimal solution\"\"\"\n",
    "def optimal_bool_to_word(bool):\n",
    "    return \"Yes\" if bool else \"No\""
   ]
  },
  {
   "cell_type": "code",
   "execution_count": 1,
   "id": "05333ad4",
   "metadata": {},
   "outputs": [
    {
     "name": "stdout",
     "output_type": "stream",
     "text": [
      "loquen\n"
     ]
    }
   ],
   "source": [
    "\"\"\"\n",
    "It's pretty straightforward. Your goal is to create a function\n",
    "that removes the first and last characters of a string.\n",
    "You're given one parameter, the original string. \n",
    "You don't have to worry with strings with less than two characters.\n",
    "\"\"\"\n",
    "\n",
    "def remove_char(s):\n",
    "    return s[1:len(s)-1:]\n",
    "\n",
    "print(remove_char('eloquent'))"
   ]
  },
  {
   "cell_type": "code",
   "execution_count": 1,
   "id": "00d4c326",
   "metadata": {},
   "outputs": [
    {
     "name": "stdout",
     "output_type": "stream",
     "text": [
      "['A', 'B', 'C', 'D', 'A', 'B']\n"
     ]
    }
   ],
   "source": [
    "\"\"\"\n",
    "Implement the function unique_in_order which takes as argument a sequence \n",
    "and returns a list of items without any elements with the same value next to each other\n",
    "and preserving the original order of elements.\n",
    "\"\"\"\n",
    "\n",
    "\"\"\"My solution\"\"\"\n",
    "def unique_in_order(iterable):\n",
    "    list_in_order = list(iterable)\n",
    "    if len(list_in_order) == 0:\n",
    "        return list_in_order \n",
    "    res = list()\n",
    "    res.append(list_in_order[0])\n",
    "    for i in range(len(list_in_order)):\n",
    "        if i != len(list_in_order) - 1:\n",
    "            if list_in_order[i] != list_in_order[i + 1]:\n",
    "                res.append(list_in_order[i + 1])\n",
    "    return res\n",
    "\n",
    "print(unique_in_order('AAAABBBCCDAABBB'))\n",
    "\n",
    "\n",
    "\"\"\"Optimal solution\"\"\"\n",
    "def optimal_unique_in_order(iterable):\n",
    "    res = []\n",
    "    for item in iterable:\n",
    "        if len(res) == 0 or item != res[-1]:\n",
    "            res.append(item)\n",
    "    return res"
   ]
  },
  {
   "cell_type": "code",
   "execution_count": 31,
   "id": "80de0bee",
   "metadata": {},
   "outputs": [
    {
     "name": "stdout",
     "output_type": "stream",
     "text": [
      "True\n"
     ]
    }
   ],
   "source": [
    "\"\"\"\n",
    "A Narcissistic Number is a positive number which is the sum of its own digits,\n",
    "each raised to the power of the number of digits in a given base.\n",
    "In this Kata, we will restrict ourselves to decimal (base 10).\n",
    "\n",
    "For example, take 153 (3 digits), which is narcisstic:\n",
    "\n",
    "    1^3 + 5^3 + 3^3 = 1 + 125 + 27 = 153\n",
    "and 1652 (4 digits), which isn't:\n",
    "\n",
    "    1^4 + 6^4 + 5^4 + 2^4 = 1 + 1296 + 625 + 16 = 1938\n",
    "The Challenge:\n",
    "\n",
    "Your code must return true or false (not 'true' and 'false') depending upon whether\n",
    "the given number is a Narcissistic number in base 10. This may be True and False in your language, e.g. PHP.\n",
    "\n",
    "Error checking for text strings or other invalid inputs is not required, \n",
    "only valid positive non-zero integers will be passed into the function.\n",
    "\"\"\"\n",
    "\n",
    "\"\"\"My solution\"\"\"\n",
    "def narcissistic(value):\n",
    "    number_list = list(str(value))\n",
    "    counter = 1\n",
    "    for i in number_list:\n",
    "        number_list[counter - 1] = int(i) ** len(number_list)\n",
    "        counter += 1\n",
    "    return True if value == sum(number_list) else False\n",
    "\n",
    "print(narcissistic(153))\n",
    "\n",
    "\"\"\"Optimal solution\"\"\"\n",
    "def optimal_narcissistic(value):\n",
    "    return value == sum(int(x) ** len(str(value)) for x in str(value))"
   ]
  },
  {
   "cell_type": "code",
   "execution_count": 55,
   "id": "d62d8925",
   "metadata": {},
   "outputs": [
    {
     "name": "stdout",
     "output_type": "stream",
     "text": [
      "ThIs\n",
      "ThIs Is A TeSt\n"
     ]
    }
   ],
   "source": [
    "\"\"\"\n",
    "Write a function toWeirdCase (weirdcase in Ruby) that accepts a string, \n",
    "and returns the same string with all even indexed characters in each word upper cased, \n",
    "and all odd indexed characters in each word lower cased. \n",
    "The indexing just explained is zero based, so the zero-ith index is even,\n",
    "therefore that character should be upper cased and you need to start over for each word.\n",
    "\n",
    "The passed in string will only consist of alphabetical characters and spaces(' ').\n",
    "Spaces will only be present if there are multiple words. Words will be separated by a single space(' ').\n",
    "\"\"\"\n",
    "\n",
    "\"My solution\"\n",
    "def to_weird_case(string):\n",
    "    list_of_string_words = list(string.split())\n",
    "    res_list = list()\n",
    "    for words in list_of_string_words:\n",
    "        words = list(words)\n",
    "        for counter in range(len(words)):\n",
    "            if counter % 2 == 0:\n",
    "                words[counter] = words[counter].upper()\n",
    "            elif counter % 2 == 1:\n",
    "                words[counter] = words[counter].lower()\n",
    "        res_list.append(''.join(words))\n",
    "    return ' '.join(res_list)\n",
    "    \n",
    "    \n",
    "print(to_weird_case('THis'))\n",
    "print(to_weird_case('This is a test'))\n",
    "\n",
    "\"Optimal solutions\"\n",
    "##########################################\n",
    "def optimal_1_to_weird_case(string):\n",
    "    word_list = list(string.split(' '))\n",
    "    new_word_list = []\n",
    "    for word in word_list:\n",
    "        charac_list = []\n",
    "        for index in range(len(word)):\n",
    "            if index%2==0:\n",
    "                charac_list.append(word[index].upper())\n",
    "            else:\n",
    "                charac_list.append(word[index].lower())\n",
    "        new_word_list.append(''.join(charac_list))\n",
    "    return ' '.join(new_word_list)\n",
    "\n",
    "##########################################\n",
    "def optimal_2_to_weird_case(string):\n",
    "    return ' '.join([''.join([y.lower() if i%2 else y.upper() for i, y in enumerate(x)]) for x in string.split()])\n",
    "##########################################"
   ]
  },
  {
   "cell_type": "code",
   "execution_count": 14,
   "id": "a2eb81d4",
   "metadata": {},
   "outputs": [
    {
     "name": "stdout",
     "output_type": "stream",
     "text": [
      "70000 + 300 + 4\n"
     ]
    }
   ],
   "source": [
    "\"\"\"\n",
    "Write Number in Expanded Form\n",
    "You will be given a number and you will need to return it as a string in Expanded Form. For example:\n",
    "\n",
    "expanded_form(12) # Should return '10 + 2'\n",
    "expanded_form(42) # Should return '40 + 2'\n",
    "expanded_form(70304) # Should return '70000 + 300 + 4'\n",
    "NOTE: All numbers will be whole numbers greater than 0.\n",
    "\n",
    "\"\"\"\n",
    "\n",
    "\"\"\"My solution\"\"\"\n",
    "def expanded_form(num):\n",
    "    num_in_string = str(num)\n",
    "    counter = len(num_in_string) - 1\n",
    "    digit_list = list()\n",
    "    for digit in num_in_string:\n",
    "        if (int(digit) * (10 ** counter)) > 0:\n",
    "            digit_list.append(str(int(digit) * (10 ** counter)))\n",
    "        counter -= 1\n",
    "    return ' + '.join(digit_list)\n",
    "        \n",
    "    \n",
    "print(expanded_form(70304))\n",
    "\n",
    "\"Optimal solutions\"\n",
    "##########################################\n",
    "def optimal_1_expanded_form(num):\n",
    "    num = str(num)\n",
    "    st = ''\n",
    "    for j, i in enumerate(num):\n",
    "        if i != '0':\n",
    "            st += ' + {}{}'.format(i, (len(num[j+1:])*'0'))\n",
    "    return st.strip(' +')\n",
    "\n",
    "##########################################\n",
    "def optimal_2_expanded_form(num):\n",
    "    num = list(str(num))\n",
    "    return ' + '.join(x + '0' * (len(num) - y - 1) for y,x in enumerate(num) if x != '0')\n",
    "\n",
    "##########################################"
   ]
  },
  {
   "cell_type": "code",
   "execution_count": 40,
   "id": "3e606923",
   "metadata": {},
   "outputs": [
    {
     "name": "stdout",
     "output_type": "stream",
     "text": [
      "False\n"
     ]
    }
   ],
   "source": [
    "\"\"\"\n",
    "Write an algorithm that will identify valid IPv4 addresses in dot-decimal format.\n",
    "IPs should be considered valid if they consist of four octets, with values between 0 and 255, inclusive.\n",
    "\n",
    "Valid inputs examples:\n",
    "Examples of valid inputs:\n",
    "1.2.3.4\n",
    "123.45.67.89\n",
    "\n",
    "Invalid input examples:\n",
    "1.2.3\n",
    "1.2.3.4.5\n",
    "123.456.78.90\n",
    "123.045.067.089\n",
    "\n",
    "Notes:\n",
    "Leading zeros (e.g. 01.02.03.04) are considered invalid\n",
    "Inputs are guaranteed to be a single string\n",
    "\"\"\"\n",
    "\n",
    "\"\"\"My solution\"\"\"\n",
    "def is_valid_IP(strng):\n",
    "    IP_parts = list(strng.split('.'))\n",
    "    if len(IP_parts) != 4:\n",
    "        return False\n",
    "    try:\n",
    "        for parts in IP_parts:\n",
    "            if ' ' in parts:\n",
    "                return False\n",
    "            if '0' == parts[0] and len(parts) > 1:\n",
    "                return False\n",
    "            if int(parts) < 0 or int(parts) > 255:\n",
    "                return False\n",
    "    except ValueError:\n",
    "        return False\n",
    "    return True       \n",
    "\n",
    "print(is_valid_IP('123.045.067.0'))\n",
    "\n",
    "\n",
    "\"\"\"Optimal solution\"\"\"\n",
    "def optimal_is_valid_IP(s):\n",
    "    return s.count('.')==3 and all(o.isdigit() and 0<=int(o)<=255 and str(int(o))==o for o in s.split('.'))\n",
    "\n",
    "\"\"\"Cool solution\"\"\"\n",
    "import socket\n",
    "\n",
    "def cool_is_valid_IP(addr):\n",
    "    try:\n",
    "        socket.inet_pton(socket.AF_INET, addr)\n",
    "        return True\n",
    "    except socket.error:\n",
    "        return False\n",
    "\n",
    "\"\"\"Regular expression (re/regex) solution\"\"\"\n",
    "import re\n",
    "def regex_is_valid_IP(strng):\n",
    "    return bool(re.match(r'^((\\d{1,2}|1\\d{2}|2[0-4]\\d|25[0-5])(\\.(?!$)|$)){4}(?=$)',strng))"
   ]
  },
  {
   "cell_type": "code",
   "execution_count": null,
   "id": "97d40c0d",
   "metadata": {},
   "outputs": [],
   "source": []
  }
 ],
 "metadata": {
  "kernelspec": {
   "display_name": "Python 3 (ipykernel)",
   "language": "python",
   "name": "python3"
  },
  "language_info": {
   "codemirror_mode": {
    "name": "ipython",
    "version": 3
   },
   "file_extension": ".py",
   "mimetype": "text/x-python",
   "name": "python",
   "nbconvert_exporter": "python",
   "pygments_lexer": "ipython3",
   "version": "3.9.7"
  }
 },
 "nbformat": 4,
 "nbformat_minor": 5
}
