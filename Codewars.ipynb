{
 "cells": [
  {
   "cell_type": "code",
   "execution_count": 1,
   "id": "3d078324",
   "metadata": {},
   "outputs": [
    {
     "data": {
      "text/plain": [
       "-9212"
      ]
     },
     "execution_count": 1,
     "metadata": {},
     "output_type": "execute_result"
    }
   ],
   "source": [
    "\"\"\"\n",
    "We need a function that can transform a string into a number. What ways of achieving this do you know?\n",
    "\n",
    "Note: Don't worry, all inputs will be strings, and every string is a perfectly valid representation of an integral number.\n",
    "\"\"\"\n",
    "\n",
    "\"\"\"My solution\"\"\"\n",
    "def string_to_number(s):\n",
    "    return int(s)\n",
    "\n",
    "\n",
    "string_to_number('-9212')"
   ]
  },
  {
   "cell_type": "code",
   "execution_count": 2,
   "id": "53b4acd3",
   "metadata": {},
   "outputs": [
    {
     "data": {
      "text/plain": [
       "0"
      ]
     },
     "execution_count": 2,
     "metadata": {},
     "output_type": "execute_result"
    }
   ],
   "source": [
    "\"\"\"\n",
    "Your classmates asked you to copy some paperwork for them. You know that there are 'n' classmates and the paperwork has 'm' pages.\n",
    "\n",
    "Your task is to calculate how many blank pages do you need. If n < 0 or m < 0 return 0.\n",
    "\"\"\"\n",
    "\n",
    "\"\"\"My solution\"\"\"\n",
    "def paperwork(n, m):\n",
    "    if n < 0 or m < 0:\n",
    "        return 0\n",
    "    return m * n\n",
    "\n",
    "\n",
    "paperwork(-9, 5)"
   ]
  },
  {
   "cell_type": "code",
   "execution_count": 3,
   "id": "1502c941",
   "metadata": {},
   "outputs": [
    {
     "data": {
      "text/plain": [
       "'1011'"
      ]
     },
     "execution_count": 3,
     "metadata": {},
     "output_type": "execute_result"
    }
   ],
   "source": [
    "\"\"\"\n",
    "Implement a function that adds two numbers together and returns their sum in binary. The conversion can be done before, or after the addition.\n",
    "\n",
    "The binary number returned should be a string.\n",
    "\"\"\"\n",
    "\n",
    "\"\"\"My solution\"\"\"\n",
    "def add_binary(a,b):\n",
    "    res = bin(a + b)\n",
    "    return res[2:]\n",
    "\n",
    "\n",
    "add_binary(2,9)"
   ]
  },
  {
   "cell_type": "code",
   "execution_count": 39,
   "id": "6f6d6033",
   "metadata": {},
   "outputs": [
    {
     "data": {
      "text/plain": [
       "True"
      ]
     },
     "execution_count": 39,
     "metadata": {},
     "output_type": "execute_result"
    }
   ],
   "source": [
    "\"\"\"\n",
    "You will be given an array a and a value x. All you need to do is check whether the provided array contains the value.\n",
    "\n",
    "Array can contain numbers or strings. X can be either.\n",
    "\n",
    "Return true if the array contains the value, false if not.\n",
    "\"\"\"\n",
    "\n",
    "\"\"\"My solution\"\"\"\n",
    "def check(seq, elem):\n",
    "    counter = 0\n",
    "    for i in seq:\n",
    "        counter += 1\n",
    "        if elem == i:\n",
    "            return True\n",
    "    return False\n",
    "\n",
    "\"\"\"Optimal solution\"\"\"\n",
    "def check_optimal(seq, elem):\n",
    "    return elem in seq\n",
    "            \n",
    "            \n",
    "check([8, 7, 5, \"bored\", \"of\", \"writing\", \"tests\", 115], 'of')"
   ]
  },
  {
   "cell_type": "code",
   "execution_count": 46,
   "id": "3b51e855",
   "metadata": {},
   "outputs": [
    {
     "name": "stdout",
     "output_type": "stream",
     "text": [
      "8\n"
     ]
    }
   ],
   "source": [
    "\"\"\"\n",
    "You are given an array (which will have a length of at least 3, \n",
    "but could be very large) containing integers. \n",
    "The array is either entirely comprised of odd integers or\n",
    "entirely comprised of even integers except for a single integer N.\n",
    "Write a method that takes the array as an argument and returns this \"outlier\" N.\n",
    "\"\"\"\n",
    "\n",
    "\"\"\"My solution\"\"\"\n",
    "def find_outlier(integers):\n",
    "    \n",
    "    \"\"\"Determine which numbers prevail in the array\"\"\"\n",
    "    counter = 0\n",
    "    for i in range(3):\n",
    "        if integers[i] % 2 == 1:\n",
    "            counter += 1 \n",
    "        \n",
    "    \"\"\"Define an outlier\"\"\"  \n",
    "    if counter > 1:\n",
    "        for i in range(len(integers)):\n",
    "            if integers[i] % 2 == 0:\n",
    "                return integers[i]\n",
    "            \n",
    "    for i in range(len(integers)):\n",
    "        if integers[i] % 2 == 1:\n",
    "            return integers[i]\n",
    "    \n",
    "\n",
    "#find_outlier([7, 4, 6, 8, 10, 0])\n",
    "#find_outlier([2, 4, 6, 8, 10, 3])\n",
    "print(find_outlier([1, 5, 8, 13, 3, 7]))\n",
    "\n",
    "\n",
    "\n",
    "\n",
    "\"\"\"Optimal solution\"\"\"\n",
    "def optimal_find_outlier_optimal(integers):\n",
    "    odd = filter(lambda x: x % 2 == 1, integers)\n",
    "    even = filter(lambda x: x % 2 == 0, integers)\n",
    "    return odd[0] if len(odd) == 1 else even[0]"
   ]
  },
  {
   "cell_type": "code",
   "execution_count": 45,
   "id": "e5a76480",
   "metadata": {},
   "outputs": [
    {
     "data": {
      "text/plain": [
       "'dlrow'"
      ]
     },
     "execution_count": 45,
     "metadata": {},
     "output_type": "execute_result"
    }
   ],
   "source": [
    "\"\"\"Complete the solution so that it reverses the string passed into it.\"\"\"\n",
    "\n",
    "\"\"\"My solution\"\"\"\n",
    "def solution(string):\n",
    "    return string[::-1]\n",
    "\n",
    "\n",
    "solution('world')\n",
    "\n",
    "\n",
    "# For beginners it's good practise \n",
    "# to know how reverse() or [::-1]\n",
    "# works on the surface\n",
    "    #for char in range(len(string)-1,-1,-1):\n",
    "        #return string[char]"
   ]
  },
  {
   "cell_type": "code",
   "execution_count": 11,
   "id": "4b9d1664",
   "metadata": {},
   "outputs": [
    {
     "name": "stdout",
     "output_type": "stream",
     "text": [
      "True\n"
     ]
    }
   ],
   "source": [
    "\"\"\"\n",
    "Complete the solution so that it returns true if the first argument(string)\n",
    "passed in ends with the 2nd argument (also a string).\n",
    "\"\"\"\n",
    "\"\"\"My solution\"\"\"\n",
    "def solution(string, ending):\n",
    "    if string[-len(ending):] == ending or ending == '':\n",
    "        return True\n",
    "    return False\n",
    "              \n",
    "print(solution('dsdvc1', 'c1'))    \n",
    "    \n",
    "\"\"\"Optimal solution\"\"\"\n",
    "def optimal_solution(string, ending):\n",
    "    return string.endswith(ending)"
   ]
  },
  {
   "cell_type": "code",
   "execution_count": 12,
   "id": "c09c9dd3",
   "metadata": {},
   "outputs": [
    {
     "data": {
      "text/plain": [
       "'GACU'"
      ]
     },
     "execution_count": 12,
     "metadata": {},
     "output_type": "execute_result"
    }
   ],
   "source": [
    "\"\"\"\n",
    "Deoxyribonucleic acid, DNA is the primary information storage molecule in biological systems. \n",
    "It is composed of four nucleic acid bases Guanine ('G'), Cytosine ('C'), Adenine ('A'), and Thymine ('T').\n",
    "\n",
    "Ribonucleic acid, RNA, is the primary messenger molecule in cells. \n",
    "RNA differs slightly from DNA its chemical structure and contains no Thymine. \n",
    "In RNA Thymine is replaced by another nucleic acid Uracil ('U').\n",
    "\n",
    "Create a function which translates a given DNA string into RNA.\n",
    "\"\"\"\n",
    "\n",
    "def dna_to_rna(dna):\n",
    "    return dna.replace('T', 'U')\n",
    "\n",
    "dna_to_rna('GACT')"
   ]
  },
  {
   "cell_type": "code",
   "execution_count": 2,
   "id": "9e829ee5",
   "metadata": {},
   "outputs": [
    {
     "name": "stdout",
     "output_type": "stream",
     "text": [
      "Yes\n"
     ]
    }
   ],
   "source": [
    "\"\"\"\n",
    "Complete the method that takes a boolean value\n",
    "and return a \"Yes\" string for true, or a \"No\" string for false.\n",
    "\"\"\"\n",
    "\n",
    "\"\"\"My solution\"\"\"\n",
    "def bool_to_word(boolean):\n",
    "    if boolean == True:\n",
    "        return 'Yes'\n",
    "    return 'No'\n",
    "\n",
    "print(bool_to_word(True))\n",
    "\n",
    "\"\"\"Optimal solution\"\"\"\n",
    "def optimal_bool_to_word(bool):\n",
    "    return \"Yes\" if bool else \"No\""
   ]
  },
  {
   "cell_type": "code",
   "execution_count": 1,
   "id": "05333ad4",
   "metadata": {},
   "outputs": [
    {
     "name": "stdout",
     "output_type": "stream",
     "text": [
      "loquen\n"
     ]
    }
   ],
   "source": [
    "\"\"\"\n",
    "It's pretty straightforward. Your goal is to create a function\n",
    "that removes the first and last characters of a string.\n",
    "You're given one parameter, the original string. \n",
    "You don't have to worry with strings with less than two characters.\n",
    "\"\"\"\n",
    "\n",
    "def remove_char(s):\n",
    "    return s[1:len(s)-1:]\n",
    "\n",
    "print(remove_char('eloquent'))"
   ]
  },
  {
   "cell_type": "code",
   "execution_count": 1,
   "id": "00d4c326",
   "metadata": {},
   "outputs": [
    {
     "name": "stdout",
     "output_type": "stream",
     "text": [
      "['A', 'B', 'C', 'D', 'A', 'B']\n"
     ]
    }
   ],
   "source": [
    "\"\"\"\n",
    "Implement the function unique_in_order which takes as argument a sequence \n",
    "and returns a list of items without any elements with the same value next to each other\n",
    "and preserving the original order of elements.\n",
    "\"\"\"\n",
    "\n",
    "\"\"\"My solution\"\"\"\n",
    "def unique_in_order(iterable):\n",
    "    list_in_order = list(iterable)\n",
    "    if len(list_in_order) == 0:\n",
    "        return list_in_order \n",
    "    res = list()\n",
    "    res.append(list_in_order[0])\n",
    "    for i in range(len(list_in_order)):\n",
    "        if i != len(list_in_order) - 1:\n",
    "            if list_in_order[i] != list_in_order[i + 1]:\n",
    "                res.append(list_in_order[i + 1])\n",
    "    return res\n",
    "\n",
    "print(unique_in_order('AAAABBBCCDAABBB'))\n",
    "\n",
    "\n",
    "\"\"\"Optimal solution\"\"\"\n",
    "def optimal_unique_in_order(iterable):\n",
    "    res = []\n",
    "    for item in iterable:\n",
    "        if len(res) == 0 or item != res[-1]:\n",
    "            res.append(item)\n",
    "    return res"
   ]
  },
  {
   "cell_type": "code",
   "execution_count": 31,
   "id": "80de0bee",
   "metadata": {},
   "outputs": [
    {
     "name": "stdout",
     "output_type": "stream",
     "text": [
      "True\n"
     ]
    }
   ],
   "source": [
    "\"\"\"\n",
    "A Narcissistic Number is a positive number which is the sum of its own digits,\n",
    "each raised to the power of the number of digits in a given base.\n",
    "In this Kata, we will restrict ourselves to decimal (base 10).\n",
    "\n",
    "For example, take 153 (3 digits), which is narcisstic:\n",
    "\n",
    "    1^3 + 5^3 + 3^3 = 1 + 125 + 27 = 153\n",
    "and 1652 (4 digits), which isn't:\n",
    "\n",
    "    1^4 + 6^4 + 5^4 + 2^4 = 1 + 1296 + 625 + 16 = 1938\n",
    "The Challenge:\n",
    "\n",
    "Your code must return true or false (not 'true' and 'false') depending upon whether\n",
    "the given number is a Narcissistic number in base 10. This may be True and False in your language, e.g. PHP.\n",
    "\n",
    "Error checking for text strings or other invalid inputs is not required, \n",
    "only valid positive non-zero integers will be passed into the function.\n",
    "\"\"\"\n",
    "\n",
    "\"\"\"My solution\"\"\"\n",
    "def narcissistic(value):\n",
    "    number_list = list(str(value))\n",
    "    counter = 1\n",
    "    for i in number_list:\n",
    "        number_list[counter - 1] = int(i) ** len(number_list)\n",
    "        counter += 1\n",
    "    return True if value == sum(number_list) else False\n",
    "\n",
    "print(narcissistic(153))\n",
    "\n",
    "\"\"\"Optimal solution\"\"\"\n",
    "def optimal_narcissistic(value):\n",
    "    return value == sum(int(x) ** len(str(value)) for x in str(value))"
   ]
  },
  {
   "cell_type": "code",
   "execution_count": 55,
   "id": "d62d8925",
   "metadata": {},
   "outputs": [
    {
     "name": "stdout",
     "output_type": "stream",
     "text": [
      "ThIs\n",
      "ThIs Is A TeSt\n"
     ]
    }
   ],
   "source": [
    "\"\"\"\n",
    "Write a function toWeirdCase (weirdcase in Ruby) that accepts a string, \n",
    "and returns the same string with all even indexed characters in each word upper cased, \n",
    "and all odd indexed characters in each word lower cased. \n",
    "The indexing just explained is zero based, so the zero-ith index is even,\n",
    "therefore that character should be upper cased and you need to start over for each word.\n",
    "\n",
    "The passed in string will only consist of alphabetical characters and spaces(' ').\n",
    "Spaces will only be present if there are multiple words. Words will be separated by a single space(' ').\n",
    "\"\"\"\n",
    "\n",
    "\"My solution\"\n",
    "def to_weird_case(string):\n",
    "    list_of_string_words = list(string.split())\n",
    "    res_list = list()\n",
    "    for words in list_of_string_words:\n",
    "        words = list(words)\n",
    "        for counter in range(len(words)):\n",
    "            if counter % 2 == 0:\n",
    "                words[counter] = words[counter].upper()\n",
    "            elif counter % 2 == 1:\n",
    "                words[counter] = words[counter].lower()\n",
    "        res_list.append(''.join(words))\n",
    "    return ' '.join(res_list)\n",
    "    \n",
    "    \n",
    "print(to_weird_case('THis'))\n",
    "print(to_weird_case('This is a test'))\n",
    "\n",
    "\"Optimal solutions\"\n",
    "##########################################\n",
    "def optimal_1_to_weird_case(string):\n",
    "    word_list = list(string.split(' '))\n",
    "    new_word_list = []\n",
    "    for word in word_list:\n",
    "        charac_list = []\n",
    "        for index in range(len(word)):\n",
    "            if index%2==0:\n",
    "                charac_list.append(word[index].upper())\n",
    "            else:\n",
    "                charac_list.append(word[index].lower())\n",
    "        new_word_list.append(''.join(charac_list))\n",
    "    return ' '.join(new_word_list)\n",
    "\n",
    "##########################################\n",
    "def optimal_2_to_weird_case(string):\n",
    "    return ' '.join([''.join([y.lower() if i%2 else y.upper() for i, y in enumerate(x)]) for x in string.split()])\n",
    "##########################################"
   ]
  },
  {
   "cell_type": "code",
   "execution_count": 14,
   "id": "a2eb81d4",
   "metadata": {},
   "outputs": [
    {
     "name": "stdout",
     "output_type": "stream",
     "text": [
      "70000 + 300 + 4\n"
     ]
    }
   ],
   "source": [
    "\"\"\"\n",
    "Write Number in Expanded Form\n",
    "You will be given a number and you will need to return it as a string in Expanded Form. For example:\n",
    "\n",
    "expanded_form(12) # Should return '10 + 2'\n",
    "expanded_form(42) # Should return '40 + 2'\n",
    "expanded_form(70304) # Should return '70000 + 300 + 4'\n",
    "NOTE: All numbers will be whole numbers greater than 0.\n",
    "\n",
    "\"\"\"\n",
    "\n",
    "\"\"\"My solution\"\"\"\n",
    "def expanded_form(num):\n",
    "    num_in_string = str(num)\n",
    "    counter = len(num_in_string) - 1\n",
    "    digit_list = list()\n",
    "    for digit in num_in_string:\n",
    "        if (int(digit) * (10 ** counter)) > 0:\n",
    "            digit_list.append(str(int(digit) * (10 ** counter)))\n",
    "        counter -= 1\n",
    "    return ' + '.join(digit_list)\n",
    "        \n",
    "    \n",
    "print(expanded_form(70304))\n",
    "\n",
    "\"Optimal solutions\"\n",
    "##########################################\n",
    "def optimal_1_expanded_form(num):\n",
    "    num = str(num)\n",
    "    st = ''\n",
    "    for j, i in enumerate(num):\n",
    "        if i != '0':\n",
    "            st += ' + {}{}'.format(i, (len(num[j+1:])*'0'))\n",
    "    return st.strip(' +')\n",
    "\n",
    "##########################################\n",
    "def optimal_2_expanded_form(num):\n",
    "    num = list(str(num))\n",
    "    return ' + '.join(x + '0' * (len(num) - y - 1) for y,x in enumerate(num) if x != '0')\n",
    "\n",
    "##########################################"
   ]
  },
  {
   "cell_type": "code",
   "execution_count": 40,
   "id": "0c22f7fc",
   "metadata": {},
   "outputs": [
    {
     "name": "stdout",
     "output_type": "stream",
     "text": [
      "False\n"
     ]
    }
   ],
   "source": [
    "\"\"\"\n",
    "Write an algorithm that will identify valid IPv4 addresses in dot-decimal format.\n",
    "IPs should be considered valid if they consist of four octets, with values between 0 and 255, inclusive.\n",
    "\n",
    "Valid inputs examples:\n",
    "Examples of valid inputs:\n",
    "1.2.3.4\n",
    "123.45.67.89\n",
    "\n",
    "Invalid input examples:\n",
    "1.2.3\n",
    "1.2.3.4.5\n",
    "123.456.78.90\n",
    "123.045.067.089\n",
    "\n",
    "Notes:\n",
    "Leading zeros (e.g. 01.02.03.04) are considered invalid\n",
    "Inputs are guaranteed to be a single string\n",
    "\"\"\"\n",
    "\n",
    "\"\"\"My solution\"\"\"\n",
    "def is_valid_IP(strng):\n",
    "    IP_parts = list(strng.split('.'))\n",
    "    if len(IP_parts) != 4:\n",
    "        return False\n",
    "    try:\n",
    "        for parts in IP_parts:\n",
    "            if ' ' in parts:\n",
    "                return False\n",
    "            if '0' == parts[0] and len(parts) > 1:\n",
    "                return False\n",
    "            if int(parts) < 0 or int(parts) > 255:\n",
    "                return False\n",
    "    except ValueError:\n",
    "        return False\n",
    "    return True       \n",
    "\n",
    "print(is_valid_IP('123.045.067.0'))\n",
    "\n",
    "\n",
    "\"\"\"Optimal solution\"\"\"\n",
    "def optimal_is_valid_IP(s):\n",
    "    return s.count('.')==3 and all(o.isdigit() and 0<=int(o)<=255 and str(int(o))==o for o in s.split('.'))\n",
    "\n",
    "\"\"\"Cool solution\"\"\"\n",
    "import socket\n",
    "\n",
    "def cool_is_valid_IP(addr):\n",
    "    try:\n",
    "        socket.inet_pton(socket.AF_INET, addr)\n",
    "        return True\n",
    "    except socket.error:\n",
    "        return False\n",
    "\n",
    "\"\"\"Regular expression (re/regex) solution\"\"\"\n",
    "import re\n",
    "def regex_is_valid_IP(strng):\n",
    "    return bool(re.match(r'^((\\d{1,2}|1\\d{2}|2[0-4]\\d|25[0-5])(\\.(?!$)|$)){4}(?=$)',strng))"
   ]
  },
  {
   "cell_type": "code",
   "execution_count": 8,
   "id": "35894a79",
   "metadata": {},
   "outputs": [
    {
     "name": "stdout",
     "output_type": "stream",
     "text": [
      "{'a': 2, 'b': 1}\n",
      "{'a': 2, 'b': 1}\n"
     ]
    }
   ],
   "source": [
    "\"\"\"\n",
    "The main idea is to count all the occurring characters in a string. \n",
    "If you have a string like aba, then the result should be {'a': 2, 'b': 1}.\n",
    "\n",
    "What if the string is empty? Then the result should be empty object literal, {}.\n",
    "\"\"\"\n",
    "\n",
    "\"\"\"My first solution\"\"\"\n",
    "def count(string):\n",
    "    res_dict = {}\n",
    "    tmp_dict = {}\n",
    "    for letter in string:\n",
    "        tmp_dict = {letter: string.count(letter)}\n",
    "        res_dict.update(tmp_dict)\n",
    "    return res_dict\n",
    "\n",
    "\"\"\"My second solution\"\"\"\n",
    "def count_2(string):\n",
    "    res_dict = {letter: string.count(letter) for letter in string}\n",
    "    return res_dict\n",
    "\n",
    "print(count('aba'))\n",
    "print(count_2('aba'))"
   ]
  },
  {
   "cell_type": "code",
   "execution_count": 64,
   "id": "d063640d",
   "metadata": {},
   "outputs": [
    {
     "name": "stdout",
     "output_type": "stream",
     "text": [
      "[337, 347]\n",
      "[359, 367]\n",
      "[3, 5]\n"
     ]
    }
   ],
   "source": [
    "\"\"\"\n",
    "The prime numbers are not regularly spaced. For example from 2 to 3 the gap is 1.\n",
    "From 3 to 5 the gap is 2. From 7 to 11 it is 4.\n",
    "Between 2 and 50 we have the following pairs of 2-gaps primes: 3-5, 5-7, 11-13, 17-19, 29-31, 41-43\n",
    "\n",
    "A prime gap of length n is a run of n-1 consecutive\n",
    "composite numbers between two successive primes (see: http://mathworld.wolfram.com/PrimeGaps.html).\n",
    "\n",
    "We will write a function gap with parameters:\n",
    "\n",
    "g (integer >= 2) which indicates the gap we are looking for\n",
    "\n",
    "m (integer > 2) which gives the start of the search (m inclusive)\n",
    "\n",
    "n (integer >= m) which gives the end of the search (n inclusive)\n",
    "\n",
    "n won't go beyond 1100000.\n",
    "\"\"\"\n",
    "\n",
    "\"\"\"My solution\"\"\"\n",
    "def gap(g, m, n):    \n",
    "    start = m\n",
    "    \n",
    "    if m % 2 == 0: #Проверяем четное ли 1-ое число, чтобы использовать шаг 2 \n",
    "        start = m + 1  \n",
    "    for integer in range(start, n + 1, 2): #Проходим по всем элементам c шагом 2\n",
    "        divider = 3 #Начальный делитель\n",
    "        #Проверяем делимость на все числа от 3 до корня из делителя (делитель в квадрате не может быть больше делимого)\n",
    "        while integer % divider != 0 and divider <= integer / divider: \n",
    "            divider += 2\n",
    "        if divider > integer / divider: #Закончен поиск первого числа\n",
    "            divider = 2\n",
    "            element = integer\n",
    "            \n",
    "            \n",
    "            start = integer + 1 #Проверяем четное ли 1-ое от найденного число, чтобы использовать шаг 2\n",
    "            if start % 2 == 0:\n",
    "                start += 1\n",
    "            for element in range(start, integer + g + 1, 2): #Проходим по элементам до конца радиуса поиска 'g' c шагом 2\n",
    "                divider_2 = 3 #Начальный делитель\n",
    "                #Проверяем делимость на все числа от 3 до корня из делителя (делитель в квадрате не может быть больше делимого)\n",
    "                while element % divider_2 != 0 and divider_2 < element / divider_2:\n",
    "                    divider_2 += 2\n",
    "                #Проверка первое ли это натуральное число от найденного \n",
    "                if divider_2 > element / divider_2 and element != integer + g:\n",
    "                    break\n",
    "                #Если оно, возвращаем ответ\n",
    "                if divider_2 > element / divider_2 and element == integer + g:       \n",
    "                    return [integer, integer + g]\n",
    "                \n",
    "print(gap(10,300,400))\n",
    "print(gap(8,300,400))\n",
    "print(gap(2, 3, 50))\n",
    "\n",
    "\"\"\"Optimal solution\"\"\"\n",
    "def optimal_gap(g, m, n):\n",
    "    previous_prime = n\n",
    "    for i in range(m, n + 1):\n",
    "        if is_prime(i):\n",
    "            if i - previous_prime == g: \n",
    "                return [previous_prime, i]\n",
    "            previous_prime = i\n",
    "    return None\n",
    "            \n",
    "    \n",
    "def is_prime(n):\n",
    "    for i in range(2, int(n**.5 + 1)):\n",
    "        if n % i == 0:\n",
    "            return False\n",
    "    return True"
   ]
  },
  {
   "cell_type": "code",
   "execution_count": 1,
   "id": "b13b3178",
   "metadata": {},
   "outputs": [
    {
     "name": "stdout",
     "output_type": "stream",
     "text": [
      "21\n",
      "1234567908\n",
      "2071\n",
      "-1\n",
      "414\n",
      "9314179\n"
     ]
    }
   ],
   "source": [
    "\"\"\"\n",
    "Create a function that takes a positive integer and\n",
    "returns the next bigger number that can be formed by rearranging its digits. For example:\n",
    "\n",
    "12 ==> 21\n",
    "513 ==> 531\n",
    "2017 ==> 2071\n",
    "nextBigger(num: 12)   // returns 21\n",
    "nextBigger(num: 513)  // returns 531\n",
    "nextBigger(num: 2017) // returns 2071\n",
    "If the digits can't be rearranged to form a bigger number, return -1 (or nil in Swift):\n",
    "\n",
    "9 ==> -1\n",
    "111 ==> -1\n",
    "531 ==> -1\n",
    "nextBigger(num: 9)   // returns nil\n",
    "nextBigger(num: 111) // returns nil\n",
    "nextBigger(num: 531) // returns nil\n",
    "\"\"\"\n",
    "\n",
    "\"\"\"My solution\"\"\"\n",
    "import itertools\n",
    "\n",
    "def permute_unique(iterable):\n",
    "        perms = [[]]\n",
    "        for i in iterable:\n",
    "            perms = [perm[:j] + [i] + perm[j:] \n",
    "                for perm in perms \n",
    "                for j in itertools.takewhile(lambda j:j<1 or perm[j-1] != i, range(len(perm) + 1))\n",
    "            ]\n",
    "        return perms\n",
    "\n",
    "\n",
    "def next_bigger(n):\n",
    "    tmp_list = list()\n",
    "    number_list = list(str(n))\n",
    "    counter = len(number_list) - 1\n",
    "    \n",
    "    \n",
    "    res_list = list()\n",
    "\n",
    "    for i in range(len(number_list) - 1, -1, -1): #Проходим по всем элементам списка\n",
    "\n",
    "        if i < len(number_list) - 1 and number_list[i] < number_list[i + 1]: #Находим элемент, который надо переставить\n",
    "            tmp_list = number_list[counter: len(number_list)] #Копируем элементы списка от текщего до последнего\n",
    "            changeable_int = int(''.join(tmp_list)) #Получаем число которое должны изменить\n",
    "            preres_list = permute_unique(tmp_list) #Находим все возможные не повторяющиеся комбинации цифр\n",
    "            \n",
    "            for elements in preres_list: #Добавляем числа в отдельный список (числа в str)\n",
    "                res_list.append(''.join(elements))\n",
    "            for i in range(len(res_list)): #Делаем элементы числами\n",
    "                res_list[i] = int(res_list[i])\n",
    "                \n",
    "            while min(res_list) <= changeable_int: #Удаляем элементы меньше изменяемого числа\n",
    "                res_list.remove(min(res_list))\n",
    "                     \n",
    "            minimum = min(res_list) #Минимальное оставшееся число - это то что нужно заменить в исходном\n",
    "            res_num = list(str(minimum)) #Превращаем в список\n",
    "            \n",
    "            for element in res_num:  #Заменяем в исходном списке\n",
    "                number_list[counter] = element\n",
    "                counter +=1\n",
    "            \n",
    "            return int(''.join(number_list)) #Выводим результат\n",
    "        \n",
    "        counter -= 1\n",
    "    return -1\n",
    "    \n",
    "\"\"\"Optimal solution\"\"\"\n",
    "def optimal_next_bigger(n):\n",
    "    nums = list(str(n))\n",
    "    for i in reversed(range(len(nums[:-1]))):\n",
    "        for j in reversed(range(i, len(nums))):\n",
    "            if nums[i] < nums[j]:\n",
    "                nums[i], nums[j] = nums[j], nums[i]\n",
    "                nums[i + 1:] = sorted(nums[i + 1:])\n",
    "                return int(''.join(nums))\n",
    "    return -1\n",
    "    \n",
    "print(next_bigger(12))\n",
    "print(next_bigger(1234567890))\n",
    "print(next_bigger(2017))\n",
    "print(next_bigger(531))\n",
    "print(next_bigger(144))\n",
    "print(next_bigger(9311974)) # 9314179"
   ]
  },
  {
   "cell_type": "code",
   "execution_count": 9,
   "id": "e96d8598",
   "metadata": {},
   "outputs": [
    {
     "name": "stdout",
     "output_type": "stream",
     "text": [
      "['aabb', 'bbaa']\n",
      "['carer', 'racer']\n"
     ]
    }
   ],
   "source": [
    "\"\"\"\n",
    "What is an anagram? Well, two words are anagrams of each other if they both contain the same letters. For example:\n",
    "\n",
    "'abba' & 'baab' == true\n",
    "'abba' & 'bbaa' == true\n",
    "'abba' & 'abbba' == false\n",
    "'abba' & 'abca' == false\n",
    "\n",
    "Write a function that will find all the anagrams of a word from a list. You will be given two inputs a word and an array with words. You should return an array of all the anagrams or an empty array if there are none. For example:\n",
    "\n",
    "anagrams('abba', ['aabb', 'abcd', 'bbaa', 'dada']) => ['aabb', 'bbaa']\n",
    "anagrams('racer', ['crazer', 'carer', 'racar', 'caers', 'racer']) => ['carer', 'racer']\n",
    "anagrams('laser', ['lazing', 'lazy',  'lacer']) => []\n",
    "\n",
    "\"\"\"\n",
    "\n",
    "\"\"\"My solution\"\"\"\n",
    "def anagrams(word, words):\n",
    "    key_dict = {letter: word.count(letter) for letter in word}\n",
    "    res_list = list()\n",
    "    for test_word in words:\n",
    "        tmp_dict = {letter: test_word.count(letter) for letter in test_word}\n",
    "        if tmp_dict == key_dict:\n",
    "            res_list.append(test_word)\n",
    "    return res_list\n",
    "        \n",
    "\n",
    "print(anagrams('abba', ['aabb', 'abcd', 'bbaa', 'dada'])) #['aabb', 'bbaa']\n",
    "print(anagrams('racer', ['crazer', 'carer', 'racar', 'caers', 'racer'])) #['carer', 'racer']\n",
    "\n",
    "\n",
    "\"\"\"Intersting solution\"\"\"\n",
    "def interesting_anagrams(word, words):\n",
    "    return [w for w in words if sorted(word)==sorted(w)]"
   ]
  },
  {
   "cell_type": "code",
   "execution_count": 116,
   "id": "2555f5f0",
   "metadata": {},
   "outputs": [
    {
     "name": "stdout",
     "output_type": "stream",
     "text": [
      "4.0\n",
      "8.0\n",
      "7.0\n",
      "950.0\n"
     ]
    }
   ],
   "source": [
    "\"\"\"\n",
    "Write a function called sumIntervals/sum_intervals() that accepts an array of intervals, and returns the sum of all the interval lengths. Overlapping intervals should only be counted once.\n",
    "\n",
    "Intervals\n",
    "Intervals are represented by a pair of integers in the form of an array. The first value of the interval will always be less than the second value. Interval example: [1, 5] is an interval from 1 to 5. The length of this interval is 4.\n",
    "\n",
    "Overlapping Intervals\n",
    "List containing overlapping intervals:\n",
    "\n",
    "[\n",
    "   [1,4],\n",
    "   [7, 10],\n",
    "   [3, 5]\n",
    "]\n",
    "The sum of the lengths of these intervals is 7. Since [1, 4] and [3, 5] overlap, we can treat the interval as [1, 5], which has a length of 4.\n",
    "\n",
    "Examples:\n",
    "sumIntervals( [\n",
    "   [1,2],\n",
    "   [6, 10],\n",
    "   [11, 15]\n",
    "] ); // => 9\n",
    "\n",
    "sumIntervals( [\n",
    "   [1,4],\n",
    "   [7, 10],\n",
    "   [3, 5]\n",
    "] ); // => 7\n",
    "\n",
    "sumIntervals( [\n",
    "   [1,5],\n",
    "   [10, 20],\n",
    "   [1, 6],\n",
    "   [16, 19],\n",
    "   [5, 11]\n",
    "] ); // => 19\n",
    "\"\"\"\n",
    "\n",
    "\"\"\"My solution\"\"\"\n",
    "import math\n",
    "\n",
    "def sum_of_intervals(intervals):\n",
    "    \n",
    "    sort_intervals = sorted(intervals)\n",
    "    res_list = list()\n",
    "    sum = 0\n",
    "    counter = 0\n",
    "    \n",
    "    for i in range(len(sort_intervals)):\n",
    "        if i == 0:\n",
    "            res_list.append((sort_intervals[i][0], sort_intervals[i][1])) \n",
    "        \n",
    "        # (-465, 264) (300, 400)\n",
    "        elif res_list[counter][0] < sort_intervals[i][0] and sort_intervals[i][0] > res_list[counter][1]:\n",
    "            res_list.append((sort_intervals[i][0], sort_intervals[i][1]))\n",
    "            counter += 1\n",
    "            \n",
    "        # (-465, 264)    (-300, 400)\n",
    "        elif res_list[counter][0] <= sort_intervals[i][0] and sort_intervals[i][0] <= res_list[counter][1]\\\n",
    "        and res_list[counter][1] <= sort_intervals[i][1]:\n",
    "            res_list[counter] = (res_list[counter][0], sort_intervals[i][1])\n",
    "                                 \n",
    "    for interval in res_list:\n",
    "        sum += math.fabs(interval[1] - interval[0])\n",
    "    return sum\n",
    "\n",
    "print(sum_of_intervals([(1, 5)])) #4\n",
    "print(sum_of_intervals([(1, 5), (6, 10)])) #8\n",
    "print(sum_of_intervals([(1, 4), (7, 10), (3, 5)])) #7\n",
    "print(sum_of_intervals([(-465, 264), (-437, 485), (-367, 298), (-291, 456), (-287, 309), (-283, 217),\\\n",
    "                        (-250, -131), (-216, 375), (-187, -88), (-147, 38), (-125, 69), (88, 426), (119, 428),\\\n",
    "                        (152, 460), (316, 465), (382, 484)])) #950\n",
    "\n",
    "\"\"\"Optimal solution\"\"\"\n",
    "def sum_of_intervals(intervals): \n",
    "    s = []\n",
    "    for i in intervals:\n",
    "        s += list(range(i[0],i[1]))\n",
    "    return len(set(s))"
   ]
  },
  {
   "cell_type": "code",
   "execution_count": 89,
   "id": "1660cf28",
   "metadata": {},
   "outputs": [
    {
     "ename": "IndentationError",
     "evalue": "unindent does not match any outer indentation level (<tokenize>, line 4)",
     "output_type": "error",
     "traceback": [
      "\u001b[1;36m  File \u001b[1;32m<tokenize>:4\u001b[1;36m\u001b[0m\n\u001b[1;33m    counter += 1\u001b[0m\n\u001b[1;37m    ^\u001b[0m\n\u001b[1;31mIndentationError\u001b[0m\u001b[1;31m:\u001b[0m unindent does not match any outer indentation level\n"
     ]
    }
   ],
   "source": [
    "if i > 0 and res_list[counter][1] > res_list[counter + 1][1]:\n",
    "                del res_list[1]\n",
    "                counter -= 1\n",
    "            counter += 1"
   ]
  },
  {
   "cell_type": "code",
   "execution_count": null,
   "id": "3e4f9479",
   "metadata": {},
   "outputs": [],
   "source": []
  }
 ],
 "metadata": {
  "kernelspec": {
   "display_name": "Python 3 (ipykernel)",
   "language": "python",
   "name": "python3"
  },
  "language_info": {
   "codemirror_mode": {
    "name": "ipython",
    "version": 3
   },
   "file_extension": ".py",
   "mimetype": "text/x-python",
   "name": "python",
   "nbconvert_exporter": "python",
   "pygments_lexer": "ipython3",
   "version": "3.9.7"
  }
 },
 "nbformat": 4,
 "nbformat_minor": 5
}
