{
 "cells": [
  {
   "cell_type": "code",
   "execution_count": 1,
   "id": "3d078324",
   "metadata": {},
   "outputs": [
    {
     "data": {
      "text/plain": [
       "-9212"
      ]
     },
     "execution_count": 1,
     "metadata": {},
     "output_type": "execute_result"
    }
   ],
   "source": [
    "\"\"\"\n",
    "We need a function that can transform a string into a number. What ways of achieving this do you know?\n",
    "\n",
    "Note: Don't worry, all inputs will be strings, and every string is a perfectly valid representation of an integral number.\n",
    "\"\"\"\n",
    "def string_to_number(s):\n",
    "    # ... your code here\n",
    "    return int(s)\n",
    "\n",
    "\n",
    "string_to_number('-9212')"
   ]
  },
  {
   "cell_type": "code",
   "execution_count": 2,
   "id": "53b4acd3",
   "metadata": {},
   "outputs": [
    {
     "data": {
      "text/plain": [
       "0"
      ]
     },
     "execution_count": 2,
     "metadata": {},
     "output_type": "execute_result"
    }
   ],
   "source": [
    "\"\"\"\n",
    "Your classmates asked you to copy some paperwork for them. You know that there are 'n' classmates and the paperwork has 'm' pages.\n",
    "\n",
    "Your task is to calculate how many blank pages do you need. If n < 0 or m < 0 return 0.\n",
    "\"\"\"\n",
    "def paperwork(n, m):\n",
    "    # Happy Coding! ^_^\n",
    "    if n < 0 or m < 0:\n",
    "        return 0\n",
    "    return m * n\n",
    "\n",
    "\n",
    "paperwork(-9, 5)"
   ]
  },
  {
   "cell_type": "code",
   "execution_count": 3,
   "id": "1502c941",
   "metadata": {},
   "outputs": [
    {
     "data": {
      "text/plain": [
       "'1011'"
      ]
     },
     "execution_count": 3,
     "metadata": {},
     "output_type": "execute_result"
    }
   ],
   "source": [
    "\"\"\"\n",
    "Implement a function that adds two numbers together and returns their sum in binary. The conversion can be done before, or after the addition.\n",
    "\n",
    "The binary number returned should be a string.\n",
    "\"\"\"\n",
    "def add_binary(a,b):\n",
    "    #your code here\n",
    "    res = bin(a + b)\n",
    "    return res[2:]\n",
    "\n",
    "\n",
    "add_binary(2,9)"
   ]
  },
  {
   "cell_type": "code",
   "execution_count": null,
   "id": "6f6d6033",
   "metadata": {},
   "outputs": [],
   "source": [
    "\"\"\"\n",
    "You will be given an array a and a value x. All you need to do is check whether the provided array contains the value.\n",
    "\n",
    "Array can contain numbers or strings. X can be either.\n",
    "\n",
    "Return true if the array contains the value, false if not.\n",
    "\"\"\"\n",
    "\n",
    "def check(seq, elem):\n",
    "    counter = 0\n",
    "    for i in seq:\n",
    "        counter += 1\n",
    "        if elem == i:\n",
    "            return True\n",
    "        elif counter == len(seq):\n",
    "            return False\n",
    "            \n",
    "            \n",
    "check([8, 7, 5, \"bored\", \"of\", \"writing\", \"tests\", 115], 'of')"
   ]
  }
 ],
 "metadata": {
  "kernelspec": {
   "display_name": "Python 3 (ipykernel)",
   "language": "python",
   "name": "python3"
  },
  "language_info": {
   "codemirror_mode": {
    "name": "ipython",
    "version": 3
   },
   "file_extension": ".py",
   "mimetype": "text/x-python",
   "name": "python",
   "nbconvert_exporter": "python",
   "pygments_lexer": "ipython3",
   "version": "3.9.7"
  }
 },
 "nbformat": 4,
 "nbformat_minor": 5
}
