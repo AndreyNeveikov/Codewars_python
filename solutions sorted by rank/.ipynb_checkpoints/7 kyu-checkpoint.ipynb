{
 "cells": [
  {
   "cell_type": "code",
   "execution_count": 1,
   "id": "afc5b520",
   "metadata": {},
   "outputs": [
    {
     "data": {
      "text/plain": [
       "'1011'"
      ]
     },
     "execution_count": 1,
     "metadata": {},
     "output_type": "execute_result"
    }
   ],
   "source": [
    "\"\"\"\n",
    "Implement a function that adds two numbers together and returns their sum in binary. The conversion can be done before, or after the addition.\n",
    "\n",
    "The binary number returned should be a string.\n",
    "\"\"\"\n",
    "\n",
    "\"\"\"My solution\"\"\"\n",
    "def add_binary(a,b):\n",
    "    res = bin(a + b)\n",
    "    return res[2:]\n",
    "\n",
    "\n",
    "add_binary(2,9)"
   ]
  },
  {
   "cell_type": "code",
   "execution_count": 2,
   "id": "8b0eb4b6",
   "metadata": {},
   "outputs": [
    {
     "name": "stdout",
     "output_type": "stream",
     "text": [
      "True\n"
     ]
    }
   ],
   "source": [
    "\"\"\"\n",
    "Complete the solution so that it returns true if the first argument(string)\n",
    "passed in ends with the 2nd argument (also a string).\n",
    "\"\"\"\n",
    "\"\"\"My solution\"\"\"\n",
    "def solution(string, ending):\n",
    "    if string[-len(ending):] == ending or ending == '':\n",
    "        return True\n",
    "    return False\n",
    "              \n",
    "print(solution('dsdvc1', 'c1'))    \n",
    "    \n",
    "\"\"\"Optimal solution\"\"\"\n",
    "def optimal_solution(string, ending):\n",
    "    return string.endswith(ending)"
   ]
  },
  {
   "cell_type": "code",
   "execution_count": 3,
   "id": "db9e832d",
   "metadata": {},
   "outputs": [
    {
     "name": "stdout",
     "output_type": "stream",
     "text": [
      "True\n",
      "True\n",
      "True\n"
     ]
    }
   ],
   "source": [
    "\"\"\"\n",
    "It's your best friend's birthday! You already bought a box for the present. \n",
    "Now you want to pack the present in the box. You want to decorate the box with a ribbon and a bow.\n",
    "\n",
    "But how much cm of ribbon do you need?\n",
    "Write the method wrap that calculates that!\n",
    "\n",
    "A box has a height, a width and a length (in cm). \n",
    "The ribbon is crossed on the side with the largest area. \n",
    "Opposite this side (also the side with the largest area) the loop is bound, \n",
    "calculate with 20 cm more tape.\n",
    "\n",
    "  wrap(17,32,11) => 162\n",
    "  wrap(13,13,13) => 124\n",
    "  wrap(1,3,1) => 32\n",
    "  \n",
    "Notes:\n",
    "height, width and length will always be >0\n",
    "\"\"\"\n",
    "\"\"\"My solution\"\"\"\n",
    "def wrap(height, width, length):\n",
    "    box_size = sorted([height, width, length])  \n",
    "    return box_size[2] * 2 + box_size[1] * 2 + box_size[0] * 4  + 20\n",
    "\n",
    "print(wrap(17, 32, 11) == 162)\n",
    "print(wrap(13, 13, 13) == 124)\n",
    "print(wrap(1, 3, 1) == 32)\n",
    "\n",
    "\"\"\"Clever solution\"\"\"\n",
    "def clever_wrap(*dims):\n",
    "    return sum(dims, min(dims))*2 + 20"
   ]
  },
  {
   "cell_type": "code",
   "execution_count": null,
   "id": "ae664709",
   "metadata": {},
   "outputs": [],
   "source": []
  }
 ],
 "metadata": {
  "kernelspec": {
   "display_name": "Python 3 (ipykernel)",
   "language": "python",
   "name": "python3"
  },
  "language_info": {
   "codemirror_mode": {
    "name": "ipython",
    "version": 3
   },
   "file_extension": ".py",
   "mimetype": "text/x-python",
   "name": "python",
   "nbconvert_exporter": "python",
   "pygments_lexer": "ipython3",
   "version": "3.9.7"
  }
 },
 "nbformat": 4,
 "nbformat_minor": 5
}
