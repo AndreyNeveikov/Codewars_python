{
 "cells": [
  {
   "cell_type": "code",
   "execution_count": 1,
   "id": "afc5b520",
   "metadata": {},
   "outputs": [
    {
     "data": {
      "text/plain": [
       "'1011'"
      ]
     },
     "execution_count": 1,
     "metadata": {},
     "output_type": "execute_result"
    }
   ],
   "source": [
    "\"\"\"\n",
    "Implement a function that adds two numbers together and returns their sum in binary. The conversion can be done before, or after the addition.\n",
    "\n",
    "The binary number returned should be a string.\n",
    "\"\"\"\n",
    "\n",
    "\"\"\"My solution\"\"\"\n",
    "def add_binary(a,b):\n",
    "    res = bin(a + b)\n",
    "    return res[2:]\n",
    "\n",
    "\n",
    "add_binary(2,9)"
   ]
  },
  {
   "cell_type": "code",
   "execution_count": 2,
   "id": "8b0eb4b6",
   "metadata": {},
   "outputs": [
    {
     "name": "stdout",
     "output_type": "stream",
     "text": [
      "True\n"
     ]
    }
   ],
   "source": [
    "\"\"\"\n",
    "Complete the solution so that it returns true if the first argument(string)\n",
    "passed in ends with the 2nd argument (also a string).\n",
    "\"\"\"\n",
    "\"\"\"My solution\"\"\"\n",
    "def solution(string, ending):\n",
    "    if string[-len(ending):] == ending or ending == '':\n",
    "        return True\n",
    "    return False\n",
    "              \n",
    "print(solution('dsdvc1', 'c1'))    \n",
    "    \n",
    "\"\"\"Optimal solution\"\"\"\n",
    "def optimal_solution(string, ending):\n",
    "    return string.endswith(ending)"
   ]
  },
  {
   "cell_type": "code",
   "execution_count": 3,
   "id": "db9e832d",
   "metadata": {},
   "outputs": [
    {
     "name": "stdout",
     "output_type": "stream",
     "text": [
      "True\n",
      "True\n",
      "True\n"
     ]
    }
   ],
   "source": [
    "\"\"\"\n",
    "It's your best friend's birthday! You already bought a box for the present. \n",
    "Now you want to pack the present in the box. You want to decorate the box with a ribbon and a bow.\n",
    "\n",
    "But how much cm of ribbon do you need?\n",
    "Write the method wrap that calculates that!\n",
    "\n",
    "A box has a height, a width and a length (in cm). \n",
    "The ribbon is crossed on the side with the largest area. \n",
    "Opposite this side (also the side with the largest area) the loop is bound, \n",
    "calculate with 20 cm more tape.\n",
    "\n",
    "  wrap(17,32,11) => 162\n",
    "  wrap(13,13,13) => 124\n",
    "  wrap(1,3,1) => 32\n",
    "  \n",
    "Notes:\n",
    "height, width and length will always be >0\n",
    "\"\"\"\n",
    "\"\"\"My solution\"\"\"\n",
    "def wrap(height, width, length):\n",
    "    box_size = sorted([height, width, length])  \n",
    "    return box_size[2] * 2 + box_size[1] * 2 + box_size[0] * 4  + 20\n",
    "\n",
    "print(wrap(17, 32, 11) == 162)\n",
    "print(wrap(13, 13, 13) == 124)\n",
    "print(wrap(1, 3, 1) == 32)\n",
    "\n",
    "\"\"\"Clever solution\"\"\"\n",
    "def clever_wrap(*dims):\n",
    "    return sum(dims, min(dims))*2 + 20"
   ]
  },
  {
   "cell_type": "code",
   "execution_count": 4,
   "id": "ae664709",
   "metadata": {},
   "outputs": [
    {
     "name": "stdout",
     "output_type": "stream",
     "text": [
      "True\n"
     ]
    }
   ],
   "source": [
    "\"\"\"\n",
    "Jaden Smith, the son of Will Smith, is the star of films such as The Karate Kid (2010) and After Earth (2013). Jaden is also known for some of his philosophy that he delivers via Twitter. When writing on Twitter, he is known for almost always capitalizing every word. For simplicity, you'll have to capitalize each word, check out how contractions are expected to be in the example below.\n",
    "\n",
    "Your task is to convert strings to how they would be written by Jaden Smith. The strings are actual quotes from Jaden Smith, but they are not capitalized in the same way he originally typed them.\n",
    "\n",
    "Example:\n",
    "\n",
    "Not Jaden-Cased: \"How can mirrors be real if our eyes aren't real\"\n",
    "Jaden-Cased:     \"How Can Mirrors Be Real If Our Eyes Aren't Real\"\n",
    "\"\"\"\n",
    "\n",
    "\"\"\"My solution\"\"\"\n",
    "def to_jaden_case(string):\n",
    "    phrase_parts = string.split(\"'\")\n",
    "    for i in range(len(phrase_parts)):\n",
    "        if i != 0:\n",
    "            first_space = phrase_parts[i].find(\" \")\n",
    "            phrase_parts[i] = \"'\" + phrase_parts[i][0:first_space] + phrase_parts[i][first_space:len(phrase_parts[i])].title()\n",
    "        else:\n",
    "            phrase_parts[i] = phrase_parts[i].title()\n",
    "    string = ''.join(phrase_parts)\n",
    "    return string\n",
    "\n",
    "\"\"\"My short solution\"\"\"\n",
    "def to_jaden_case(string):\n",
    "    return string.split(\"'\")[0].title() + ''.join([\"'\" + string.split(\"'\")[i][0:string.split(\"'\")[i].find(\" \")] + string.split(\"'\")[i][string.split(\"'\")[i].find(\" \"):len(string.split(\"'\")[i])].title() for i in range(len(string.split(\"'\"))) if i != 0])\n",
    "\n",
    "print(to_jaden_case(\"How can mirrors be real if our eyes aren't real\") == \"How Can Mirrors Be Real If Our Eyes Aren't Real\")\n",
    "\n",
    "\n",
    "\"\"\"Optimal solution\"\"\"\n",
    "def to_jaden_case(string):\n",
    "    return ' '.join(word.capitalize() for word in string.split())\n"
   ]
  },
  {
   "cell_type": "code",
   "execution_count": 5,
   "id": "1680d2f4",
   "metadata": {},
   "outputs": [
    {
     "name": "stdout",
     "output_type": "stream",
     "text": [
      "False False -1: Negative numbers cannot be square numbers\n",
      "True True 0 is a square number (0 * 0)\n",
      "False False 3 is not a square number\n",
      "True True 4 is a square number (2 * 2)\n",
      "True True 25 is a square number (5 * 5)\n",
      "False False 26 is not a square number\n"
     ]
    }
   ],
   "source": [
    "\"\"\"\n",
    "A square of squares\n",
    "You like building blocks. You especially like building blocks that are squares. And what you even like more, is to arrange them into a square of square building blocks!\n",
    "\n",
    "However, sometimes, you can't arrange them into a square. Instead, you end up with an ordinary rectangle! Those blasted things! If you just had a way to know, whether you're currently working in vain… Wait! That's it! You just have to check if your number of building blocks is a perfect square.\n",
    "\n",
    "Task\n",
    "Given an integral number, determine if it's a square number:\n",
    "\n",
    "In mathematics, a square number or perfect square is an integer that is the square of an integer; in other words, it is the product of some integer with itself.\n",
    "\n",
    "The tests will always use some integral number, so don't worry about that in dynamic typed languages.\n",
    "\n",
    "Examples\n",
    "-1  =>  false\n",
    " 0  =>  true\n",
    " 3  =>  false\n",
    " 4  =>  true\n",
    "25  =>  true\n",
    "26  =>  false\n",
    "\"\"\"\n",
    "\n",
    "\"\"\"My solution\"\"\"\n",
    "def is_square(n):\n",
    "    if n < 0:\n",
    "        return False\n",
    "    if n ** 0.5 == int(n ** 0.5):\n",
    "        return True\n",
    "    return False \n",
    "\n",
    "print(is_square(-1), False, \"-1: Negative numbers cannot be square numbers\")\n",
    "print(is_square( 0), True, \"0 is a square number (0 * 0)\")\n",
    "print(is_square( 3), False, \"3 is not a square number\")\n",
    "print(is_square( 4), True, \"4 is a square number (2 * 2)\")\n",
    "print(is_square(25), True, \"25 is a square number (5 * 5)\")\n",
    "print(is_square(26), False, \"26 is not a square number\")\n",
    "\n",
    "\n",
    "\"\"\"Optimal solution\"\"\"\n",
    "import math\n",
    "def is_square(n):\n",
    "    return n > -1 and math.sqrt(n) % 1 == 0;"
   ]
  },
  {
   "cell_type": "code",
   "execution_count": 70,
   "id": "bdacd29b",
   "metadata": {},
   "outputs": [
    {
     "name": "stdout",
     "output_type": "stream",
     "text": [
      "[1, 3, 1, 1, 0, 0, 1] [1, 3, 1, 1, 0, 0, 1]\n",
      "[4, 2, 0, 1] [4, 2, 0, 1]\n",
      "[] []\n",
      "[0, 0, 0, 0, 0, 0, 0, 0, 1] [0, 0, 0, 0, 0, 0, 0, 0, 1]\n"
     ]
    }
   ],
   "source": [
    "\"\"\"\n",
    "You will be given an array of non-negative integers and positive integer bin width.\n",
    "\n",
    "Your task is to create the Histogram method that will return histogram data corresponding to the input array. The histogram data is an array that stores under index i the count of numbers that belong to bin i. The first bin always starts with zero.\n",
    "\n",
    "On empty input you should return empty output.\n",
    "\n",
    "Examples:\n",
    "\n",
    "For input data [1, 1, 0, 1, 3, 2, 6] and binWidth=1 the result will be [1, 3, 1, 1, 0, 0, 1] as the data contains single element \"0\", 3 elements \"1\" etc.\n",
    "For the same data and binWidth=2 the result will be [4, 2, 0, 1]\n",
    "For input data [7] and binWidth=1 the result will be [0, 0, 0, 0, 0, 0, 0, 1]\n",
    "\"\"\"\n",
    "\n",
    "\"\"\"My solution\"\"\"\n",
    "from itertools import zip_longest\n",
    "\n",
    "def histogram(values, bin_width):\n",
    "    if not values:\n",
    "        return []\n",
    "    \n",
    "    hist_list = [0 for x in range(max(values) + 1)]\n",
    "    for i in values:\n",
    "        hist_list[i] = hist_list[i] + 1\n",
    "    if bin_width == 1:\n",
    "        return hist_list\n",
    "    \n",
    "    tupled_res = list(x for x in zip_longest(*[iter(hist_list)] * bin_width))\n",
    "    res = list()\n",
    "    for i in range(len(tupled_res)):\n",
    "        res.append([])\n",
    "        for j in range(len(tupled_res[i])):\n",
    "            if tupled_res[i][j] == None:\n",
    "                res[i].append(0)\n",
    "            else:\n",
    "                res[i].append(tupled_res[i][j])      \n",
    "    res = [sum(res[i]) for i in range(len(res))]\n",
    "    return res\n",
    "\n",
    "\n",
    "print(histogram([1, 1, 0, 1, 3, 2, 6], 1), [1, 3, 1, 1, 0, 0, 1])\n",
    "print(histogram([1, 1, 0, 1, 3, 2, 6], 2), [4, 2, 0, 1])\n",
    "print(histogram([], 1), [])\n",
    "print(histogram([8], 1), [0, 0, 0, 0, 0, 0, 0, 0, 1])\n",
    "\n",
    "\"\"\"Optimal solution\"\"\"\n",
    "def histogram(values: list, width: int) -> list:\n",
    "    res = [0] * (max(values, default=-1) // width + 1)\n",
    "    for value in values:\n",
    "        res[value // width] += 1\n",
    "    return res"
   ]
  },
  {
   "cell_type": "code",
   "execution_count": null,
   "id": "588a79d5",
   "metadata": {},
   "outputs": [],
   "source": []
  }
 ],
 "metadata": {
  "kernelspec": {
   "display_name": "Python 3 (ipykernel)",
   "language": "python",
   "name": "python3"
  },
  "language_info": {
   "codemirror_mode": {
    "name": "ipython",
    "version": 3
   },
   "file_extension": ".py",
   "mimetype": "text/x-python",
   "name": "python",
   "nbconvert_exporter": "python",
   "pygments_lexer": "ipython3",
   "version": "3.9.15"
  }
 },
 "nbformat": 4,
 "nbformat_minor": 5
}
