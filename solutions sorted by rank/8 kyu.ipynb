{
 "cells": [
  {
   "cell_type": "code",
   "execution_count": 1,
   "id": "5f481703",
   "metadata": {},
   "outputs": [
    {
     "data": {
      "text/plain": [
       "-9212"
      ]
     },
     "execution_count": 1,
     "metadata": {},
     "output_type": "execute_result"
    }
   ],
   "source": [
    "\"\"\"\n",
    "We need a function that can transform a string into a number. What ways of achieving this do you know?\n",
    "\n",
    "Note: Don't worry, all inputs will be strings, and every string is a perfectly valid representation of an integral number.\n",
    "\"\"\"\n",
    "\n",
    "\"\"\"My solution\"\"\"\n",
    "def string_to_number(s):\n",
    "    return int(s)\n",
    "\n",
    "\n",
    "string_to_number('-9212')"
   ]
  },
  {
   "cell_type": "code",
   "execution_count": 2,
   "id": "db27322f",
   "metadata": {},
   "outputs": [
    {
     "data": {
      "text/plain": [
       "0"
      ]
     },
     "execution_count": 2,
     "metadata": {},
     "output_type": "execute_result"
    }
   ],
   "source": [
    "\"\"\"\n",
    "Your classmates asked you to copy some paperwork for them. You know that there are 'n' classmates and the paperwork has 'm' pages.\n",
    "\n",
    "Your task is to calculate how many blank pages do you need. If n < 0 or m < 0 return 0.\n",
    "\"\"\"\n",
    "\n",
    "\"\"\"My solution\"\"\"\n",
    "def paperwork(n, m):\n",
    "    if n < 0 or m < 0:\n",
    "        return 0\n",
    "    return m * n\n",
    "\n",
    "\n",
    "paperwork(-9, 5)"
   ]
  },
  {
   "cell_type": "code",
   "execution_count": 8,
   "id": "c3dff0be",
   "metadata": {},
   "outputs": [
    {
     "data": {
      "text/plain": [
       "True"
      ]
     },
     "execution_count": 8,
     "metadata": {},
     "output_type": "execute_result"
    }
   ],
   "source": [
    "\"\"\"\n",
    "You will be given an array a and a value x. All you need to do is check whether the provided array contains the value.\n",
    "\n",
    "Array can contain numbers or strings. X can be either.\n",
    "\n",
    "Return true if the array contains the value, false if not.\n",
    "\"\"\"\n",
    "\n",
    "\"\"\"My solution\"\"\"\n",
    "def check(seq, elem):\n",
    "    counter = 0\n",
    "    for i in seq:\n",
    "        counter += 1\n",
    "        if elem == i:\n",
    "            return True\n",
    "    return False\n",
    "\n",
    "\"\"\"Optimal solution\"\"\"\n",
    "def optimal_check_optimal(seq, elem):\n",
    "    return elem in seq\n",
    "            \n",
    "            \n",
    "check([8, 7, 5, \"bored\", \"of\", \"writing\", \"tests\", 115], 'of')"
   ]
  },
  {
   "cell_type": "code",
   "execution_count": 9,
   "id": "f08c7c95",
   "metadata": {},
   "outputs": [
    {
     "data": {
      "text/plain": [
       "'dlrow'"
      ]
     },
     "execution_count": 9,
     "metadata": {},
     "output_type": "execute_result"
    }
   ],
   "source": [
    "\"\"\"Complete the solution so that it reverses the string passed into it.\"\"\"\n",
    "\n",
    "\"\"\"My solution\"\"\"\n",
    "def solution(string):\n",
    "    return string[::-1]\n",
    "\n",
    "\n",
    "solution('world')\n",
    "\n",
    "\n",
    "# For beginners it's good practise \n",
    "# to know how reverse() or [::-1]\n",
    "# works on the surface\n",
    "    #for char in range(len(string)-1,-1,-1):\n",
    "        #return string[char]"
   ]
  },
  {
   "cell_type": "code",
   "execution_count": 10,
   "id": "c8bed230",
   "metadata": {},
   "outputs": [
    {
     "data": {
      "text/plain": [
       "'GACU'"
      ]
     },
     "execution_count": 10,
     "metadata": {},
     "output_type": "execute_result"
    }
   ],
   "source": [
    "\"\"\"\n",
    "Deoxyribonucleic acid, DNA is the primary information storage molecule in biological systems. \n",
    "It is composed of four nucleic acid bases Guanine ('G'), Cytosine ('C'), Adenine ('A'), and Thymine ('T').\n",
    "\n",
    "Ribonucleic acid, RNA, is the primary messenger molecule in cells. \n",
    "RNA differs slightly from DNA its chemical structure and contains no Thymine. \n",
    "In RNA Thymine is replaced by another nucleic acid Uracil ('U').\n",
    "\n",
    "Create a function which translates a given DNA string into RNA.\n",
    "\"\"\"\n",
    "\n",
    "def dna_to_rna(dna):\n",
    "    return dna.replace('T', 'U')\n",
    "\n",
    "dna_to_rna('GACT')"
   ]
  },
  {
   "cell_type": "code",
   "execution_count": 11,
   "id": "e3690c20",
   "metadata": {},
   "outputs": [
    {
     "name": "stdout",
     "output_type": "stream",
     "text": [
      "Yes\n"
     ]
    }
   ],
   "source": [
    "\"\"\"\n",
    "Complete the method that takes a boolean value\n",
    "and return a \"Yes\" string for true, or a \"No\" string for false.\n",
    "\"\"\"\n",
    "\n",
    "\"\"\"My solution\"\"\"\n",
    "def bool_to_word(boolean):\n",
    "    if boolean == True:\n",
    "        return 'Yes'\n",
    "    return 'No'\n",
    "\n",
    "print(bool_to_word(True))\n",
    "\n",
    "\"\"\"Optimal solution\"\"\"\n",
    "def optimal_bool_to_word(bool):\n",
    "    return \"Yes\" if bool else \"No\""
   ]
  },
  {
   "cell_type": "code",
   "execution_count": 12,
   "id": "dfda5814",
   "metadata": {},
   "outputs": [
    {
     "name": "stdout",
     "output_type": "stream",
     "text": [
      "loquen\n"
     ]
    }
   ],
   "source": [
    "\"\"\"\n",
    "It's pretty straightforward. Your goal is to create a function\n",
    "that removes the first and last characters of a string.\n",
    "You're given one parameter, the original string. \n",
    "You don't have to worry with strings with less than two characters.\n",
    "\"\"\"\n",
    "\n",
    "def remove_char(s):\n",
    "    return s[1:len(s)-1:]\n",
    "\n",
    "print(remove_char('eloquent'))"
   ]
  },
  {
   "cell_type": "code",
   "execution_count": null,
   "id": "588c8534",
   "metadata": {},
   "outputs": [],
   "source": []
  }
 ],
 "metadata": {
  "kernelspec": {
   "display_name": "Python 3 (ipykernel)",
   "language": "python",
   "name": "python3"
  },
  "language_info": {
   "codemirror_mode": {
    "name": "ipython",
    "version": 3
   },
   "file_extension": ".py",
   "mimetype": "text/x-python",
   "name": "python",
   "nbconvert_exporter": "python",
   "pygments_lexer": "ipython3",
   "version": "3.9.7"
  }
 },
 "nbformat": 4,
 "nbformat_minor": 5
}
