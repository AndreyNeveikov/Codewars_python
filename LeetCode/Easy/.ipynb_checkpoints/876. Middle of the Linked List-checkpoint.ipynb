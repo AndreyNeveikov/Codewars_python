{
 "cells": [
  {
   "cell_type": "code",
   "execution_count": 12,
   "id": "ba47b578",
   "metadata": {},
   "outputs": [],
   "source": [
    "# Definition for singly-linked list.\n",
    "# class ListNode:\n",
    "#     def __init__(self, val=0, next=None):\n",
    "#         self.val = val\n",
    "#         self.next = next\n",
    "import math\n",
    "\n",
    "class Solution:\n",
    "    def get_current_node(self, current_node: Optional[ListNode]) -> Optional[ListNode]:\n",
    "        return current_node\n",
    "\n",
    "    def middleNode(self, head: Optional[ListNode]) -> Optional[ListNode]:\n",
    "        nestings_number = len(str(head).split('next: None')[1])\n",
    "        middle_index = math.ceil((nestings_number + 1) / 2)\n",
    "        result = [i for i in range(middle_index, nestings_number + 1)]\n",
    "\n",
    "        for i in range(middle_index - 1):\n",
    "            head = self.get_current_node(head.next)\n",
    "\n",
    "        return head\n",
    "\n",
    "\n",
    "        "
   ]
  },
  {
   "cell_type": "code",
   "execution_count": null,
   "id": "3e291dbf",
   "metadata": {},
   "outputs": [],
   "source": []
  }
 ],
 "metadata": {
  "kernelspec": {
   "display_name": "Python 3 (ipykernel)",
   "language": "python",
   "name": "python3"
  },
  "language_info": {
   "codemirror_mode": {
    "name": "ipython",
    "version": 3
   },
   "file_extension": ".py",
   "mimetype": "text/x-python",
   "name": "python",
   "nbconvert_exporter": "python",
   "pygments_lexer": "ipython3",
   "version": "3.8.16"
  }
 },
 "nbformat": 4,
 "nbformat_minor": 5
}
